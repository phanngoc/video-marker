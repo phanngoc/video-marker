{
 "cells": [
  {
   "cell_type": "code",
   "execution_count": 1,
   "metadata": {},
   "outputs": [
    {
     "name": "stdout",
     "output_type": "stream",
     "text": [
      "Requirement already satisfied: moviepy in /Users/ngocp/Documents/projects/finance-bot/.venv/lib/python3.10/site-packages (1.0.3)\n",
      "Requirement already satisfied: decorator<5.0,>=4.0.2 in /Users/ngocp/Documents/projects/finance-bot/.venv/lib/python3.10/site-packages (from moviepy) (4.4.2)\n",
      "Requirement already satisfied: tqdm<5.0,>=4.11.2 in /Users/ngocp/Documents/projects/finance-bot/.venv/lib/python3.10/site-packages (from moviepy) (4.66.5)\n",
      "Requirement already satisfied: requests<3.0,>=2.8.1 in /Users/ngocp/Documents/projects/finance-bot/.venv/lib/python3.10/site-packages (from moviepy) (2.32.3)\n",
      "Requirement already satisfied: proglog<=1.0.0 in /Users/ngocp/Documents/projects/finance-bot/.venv/lib/python3.10/site-packages (from moviepy) (0.1.10)\n",
      "Requirement already satisfied: numpy>=1.17.3 in /Users/ngocp/Documents/projects/finance-bot/.venv/lib/python3.10/site-packages (from moviepy) (1.24.4)\n",
      "Requirement already satisfied: imageio<3.0,>=2.5 in /Users/ngocp/Documents/projects/finance-bot/.venv/lib/python3.10/site-packages (from moviepy) (2.36.0)\n",
      "Requirement already satisfied: imageio-ffmpeg>=0.2.0 in /Users/ngocp/Documents/projects/finance-bot/.venv/lib/python3.10/site-packages (from moviepy) (0.5.1)\n",
      "Requirement already satisfied: pillow>=8.3.2 in /Users/ngocp/Documents/projects/finance-bot/.venv/lib/python3.10/site-packages (from imageio<3.0,>=2.5->moviepy) (11.0.0)\n",
      "Requirement already satisfied: setuptools in /Users/ngocp/Documents/projects/finance-bot/.venv/lib/python3.10/site-packages (from imageio-ffmpeg>=0.2.0->moviepy) (58.1.0)\n",
      "Requirement already satisfied: charset-normalizer<4,>=2 in /Users/ngocp/Documents/projects/finance-bot/.venv/lib/python3.10/site-packages (from requests<3.0,>=2.8.1->moviepy) (3.4.0)\n",
      "Requirement already satisfied: idna<4,>=2.5 in /Users/ngocp/Documents/projects/finance-bot/.venv/lib/python3.10/site-packages (from requests<3.0,>=2.8.1->moviepy) (3.10)\n",
      "Requirement already satisfied: urllib3<3,>=1.21.1 in /Users/ngocp/Documents/projects/finance-bot/.venv/lib/python3.10/site-packages (from requests<3.0,>=2.8.1->moviepy) (2.2.3)\n",
      "Requirement already satisfied: certifi>=2017.4.17 in /Users/ngocp/Documents/projects/finance-bot/.venv/lib/python3.10/site-packages (from requests<3.0,>=2.8.1->moviepy) (2024.8.30)\n"
     ]
    }
   ],
   "source": [
    "!pip install moviepy"
   ]
  },
  {
   "cell_type": "code",
   "execution_count": 2,
   "metadata": {},
   "outputs": [],
   "source": [
    "import os\n",
    "os.environ[\"IMAGEIO_FFMPEG_EXE\"] = \"/opt/homebrew/bin/ffmpeg\""
   ]
  },
  {
   "cell_type": "code",
   "execution_count": 4,
   "metadata": {},
   "outputs": [
    {
     "name": "stdout",
     "output_type": "stream",
     "text": [
      "Moviepy - Building video myHolidays_edited.mp4.\n",
      "MoviePy - Writing audio in myHolidays_editedTEMP_MPY_wvf_snd.mp3\n"
     ]
    },
    {
     "name": "stderr",
     "output_type": "stream",
     "text": [
      "                                                       \r"
     ]
    },
    {
     "name": "stdout",
     "output_type": "stream",
     "text": [
      "MoviePy - Done.\n",
      "Moviepy - Writing video myHolidays_edited.mp4\n",
      "\n"
     ]
    },
    {
     "name": "stderr",
     "output_type": "stream",
     "text": [
      "                                                               "
     ]
    },
    {
     "name": "stdout",
     "output_type": "stream",
     "text": [
      "Moviepy - Done !\n",
      "Moviepy - video ready myHolidays_edited.mp4\n"
     ]
    },
    {
     "name": "stderr",
     "output_type": "stream",
     "text": [
      "\r"
     ]
    }
   ],
   "source": [
    "from turtle import position\n",
    "from moviepy.editor import *\n",
    "\n",
    "video = VideoFileClip(\"chaplin.mp4\").subclip(1, 5)\n",
    "\n",
    "# Make the text. Many more options are available.\n",
    "txt_clip = ( TextClip(\"My Holidays 2013\", fontsize=70, color='white')\n",
    "             .set_duration(10) # 10 seconds\n",
    "             .set_position(('center', 'bottom'))\n",
    "    )\n",
    "\n",
    "result = CompositeVideoClip([video, txt_clip]) # Overlay text on video\n",
    "result.write_videofile(\"myHolidays_edited.mp4\", fps=25) # Many options..."
   ]
  }
 ],
 "metadata": {
  "kernelspec": {
   "display_name": ".venv",
   "language": "python",
   "name": "python3"
  },
  "language_info": {
   "codemirror_mode": {
    "name": "ipython",
    "version": 3
   },
   "file_extension": ".py",
   "mimetype": "text/x-python",
   "name": "python",
   "nbconvert_exporter": "python",
   "pygments_lexer": "ipython3",
   "version": "3.10.3"
  }
 },
 "nbformat": 4,
 "nbformat_minor": 2
}
